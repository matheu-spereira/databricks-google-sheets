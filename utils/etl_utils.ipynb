{
 "cells": [
  {
   "cell_type": "code",
   "execution_count": 0,
   "metadata": {
    "application/vnd.databricks.v1+cell": {
     "cellMetadata": {},
     "inputWidgets": {},
     "nuid": "70ed0300-f86f-4009-b788-72903596cb77",
     "showTitle": false,
     "tableResultSettingsMap": {},
     "title": ""
    }
   },
   "outputs": [],
   "source": [
    "%pip install --upgrade google-auth google-auth-oauthlib google-auth-httplib2 google-api-python-client pandas"
   ]
  },
  {
   "cell_type": "code",
   "execution_count": 0,
   "metadata": {
    "application/vnd.databricks.v1+cell": {
     "cellMetadata": {},
     "inputWidgets": {},
     "nuid": "af56ee0c-c902-47c4-b68a-31b44094dff4",
     "showTitle": false,
     "tableResultSettingsMap": {},
     "title": ""
    }
   },
   "outputs": [],
   "source": [
    "import pandas as pd\n",
    "from google.oauth2 import service_account\n",
    "from googleapiclient.discovery import build"
   ]
  },
  {
   "cell_type": "code",
   "execution_count": 0,
   "metadata": {
    "application/vnd.databricks.v1+cell": {
     "cellMetadata": {},
     "inputWidgets": {},
     "nuid": "b69750c3-b468-42c1-aaa9-16f7a49f72d5",
     "showTitle": false,
     "tableResultSettingsMap": {},
     "title": ""
    }
   },
   "outputs": [],
   "source": [
    "def get_google_sheets_service(service_account_file: str, scopes: list = None):\n",
    "    \"\"\"Cria e retorna o serviço da Google Sheets API.\"\"\"\n",
    "    if scopes is None:\n",
    "        scopes = [\"https://www.googleapis.com/auth/spreadsheets.readonly\"]\n",
    "    \n",
    "    credentials = service_account.Credentials.from_service_account_file(\n",
    "        service_account_file,\n",
    "        scopes=scopes\n",
    "    )\n",
    "    \n",
    "    service = build('sheets', 'v4', credentials=credentials)\n",
    "    return service.spreadsheets()"
   ]
  },
  {
   "cell_type": "code",
   "execution_count": 0,
   "metadata": {
    "application/vnd.databricks.v1+cell": {
     "cellMetadata": {},
     "inputWidgets": {},
     "nuid": "a6409c62-b43e-47f1-b566-292ed0d91597",
     "showTitle": false,
     "tableResultSettingsMap": {},
     "title": ""
    }
   },
   "outputs": [],
   "source": [
    "def fetch_sheet_values(sheet_service, spreadsheet_id: str, range_name: str):\n",
    "    \"\"\"Busca os valores da planilha Google Sheets.\"\"\"\n",
    "    result = sheet_service.values().get(\n",
    "        spreadsheetId=spreadsheet_id,\n",
    "        range=range_name\n",
    "    ).execute()\n",
    "    \n",
    "    return result.get('values', [])"
   ]
  },
  {
   "cell_type": "code",
   "execution_count": 0,
   "metadata": {
    "application/vnd.databricks.v1+cell": {
     "cellMetadata": {},
     "inputWidgets": {},
     "nuid": "06c0d12b-1b2c-4e63-a9d3-4aad86191d61",
     "showTitle": false,
     "tableResultSettingsMap": {},
     "title": ""
    }
   },
   "outputs": [],
   "source": [
    "def google_sheets_to_spark_df(\n",
    "    spark,\n",
    "    service_account_file: str,\n",
    "    spreadsheet_id: str,\n",
    "    range_name: str\n",
    "):\n",
    "    \"\"\"Retorna um Spark DataFrame a partir de uma planilha do Google Sheets.\"\"\"\n",
    "    \n",
    "    sheet_service = get_google_sheets_service(service_account_file)\n",
    "    values = fetch_sheet_values(sheet_service, spreadsheet_id, range_name)\n",
    "    \n",
    "    if values and len(values) > 1:\n",
    "        headers = values[0]\n",
    "        data = values[1:]\n",
    "        return spark.createDataFrame(data, schema=headers)\n",
    "    else:\n",
    "        return spark.createDataFrame([], schema=[])"
   ]
  }
 ],
 "metadata": {
  "application/vnd.databricks.v1+notebook": {
   "computePreferences": null,
   "dashboards": [],
   "environmentMetadata": {
    "base_environment": "",
    "environment_version": "2"
   },
   "inputWidgetPreferences": null,
   "language": "python",
   "notebookMetadata": {
    "pythonIndentUnit": 4
   },
   "notebookName": "etl_utils",
   "widgets": {}
  },
  "language_info": {
   "name": "python"
  }
 },
 "nbformat": 4,
 "nbformat_minor": 0
}
